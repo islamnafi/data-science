{
 "cells": [
  {
   "cell_type": "markdown",
   "id": "07ec7de5-2687-4c2f-b951-7e9fc4f13765",
   "metadata": {},
   "source": [
    "<h1>Why we need NumPy?</h1>\n",
    "NumPy is necessary because in Python we can not do certain operations on lists.  ****NumPy supports broadcasting, allowing you to perform element-wise operations on arrays of different shapes without the need for explicit loops. So when we convert a regular list into NumPy arrays and we can multiply something to all the values in a list with a single line of code.\r\n",
    "\r\n",
    "Regular list in Python:"
   ]
  },
  {
   "cell_type": "code",
   "execution_count": 2,
   "id": "3160d22d-d351-4293-8363-f6b662c1d122",
   "metadata": {},
   "outputs": [
    {
     "name": "stdout",
     "output_type": "stream",
     "text": [
      "[2, 3, 4, 5, 2, 3, 4, 5, 2, 3, 4, 5, 2, 3, 4, 5, 2, 3, 4, 5]\n"
     ]
    }
   ],
   "source": [
    "sample = [2,3,4,5]\n",
    "print(sample*5)"
   ]
  },
  {
   "cell_type": "markdown",
   "id": "d4405e77-9c79-47f6-9b22-b09b51d17986",
   "metadata": {},
   "source": [
    "Using NumPy:"
   ]
  },
  {
   "cell_type": "code",
   "execution_count": 6,
   "id": "259d0c8f-662c-456f-86d0-e7f853830ab6",
   "metadata": {},
   "outputs": [
    {
     "name": "stdout",
     "output_type": "stream",
     "text": [
      "[10 15 20 25]\n"
     ]
    }
   ],
   "source": [
    "import numpy as np\n",
    "\n",
    "sample = np.array([2,3,4,5])\n",
    "print(sample*5)"
   ]
  },
  {
   "cell_type": "markdown",
   "id": "30f9698f-7a4b-4cb1-ac4d-c981baf09ad8",
   "metadata": {},
   "source": [
    "<ul>\r\n",
    "    <li>Arrays are also faster than lists. NumPy arrays are implemented in C and optimized for performance. They provide faster execution for numerical operations compared to Python lists.</li>\r\n",
    "    <li>NumPy arrays use less memory than Python lists for storing numerical data. This is because they store elements of the same data type in contiguous memory locations, reducing overhead.</li>\r\n",
    "    <li>NumPy offers a wide range of mathematical functions and operations (e.g., linear algebra, statistical functions, Fourier transforms) that are optimized for performance.</li>\r\n",
    "    <li>Many NumPy operations are vectorized, meaning they can be applied to entire arrays without the need for explicit loops, making code more concise and often faster. <a href=\"https://www.intel.com/content/www/us/en/developer/articles/technical/vectorization-a-key-tool-to-improve-performance-on-modern-cpus.html\">Learn more here.</a></li>\r\n",
    "    <li>All elements in a NumPy array are of the same type, which can prevent bugs related to mixed data types and improve performance.</li>\r\n",
    "    <li>NumPy provides explicit type casting, allowing for better control over the precision and memory usage of numerical computations.</li>\n",
    "</ul>\r\n",
    "\n",
    "</ul>\r\n",
    "\n",
    "</ul>\r\n",
    "tations."
   ]
  },
  {
   "cell_type": "markdown",
   "id": "b170fbfd-dfbf-4022-be88-4085cef92f7e",
   "metadata": {},
   "source": []
  }
 ],
 "metadata": {
  "kernelspec": {
   "display_name": "Python 3 (ipykernel)",
   "language": "python",
   "name": "python3"
  },
  "language_info": {
   "codemirror_mode": {
    "name": "ipython",
    "version": 3
   },
   "file_extension": ".py",
   "mimetype": "text/x-python",
   "name": "python",
   "nbconvert_exporter": "python",
   "pygments_lexer": "ipython3",
   "version": "3.11.7"
  }
 },
 "nbformat": 4,
 "nbformat_minor": 5
}
