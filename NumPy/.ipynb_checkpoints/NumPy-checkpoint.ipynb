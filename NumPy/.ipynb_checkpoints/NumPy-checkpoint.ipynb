{
 "cells": [
  {
   "cell_type": "markdown",
   "id": "07ec7de5-2687-4c2f-b951-7e9fc4f13765",
   "metadata": {},
   "source": [
    "<h1>Why we need NumPy?</h1>\n",
    "NumPy is necessary because in Python we can not do certain operations on lists.  NumPy supports broadcasting, allowing you to perform element-wise operations on arrays of different shapes without the need for explicit loops. So when we convert a regular list into NumPy arrays and we can multiply something to all the values in a list with a single line of code.\r\n",
    "\r\n",
    "Regular list in Python:"
   ]
  },
  {
   "cell_type": "code",
   "execution_count": 2,
   "id": "3160d22d-d351-4293-8363-f6b662c1d122",
   "metadata": {},
   "outputs": [
    {
     "name": "stdout",
     "output_type": "stream",
     "text": [
      "[2, 3, 4, 5, 2, 3, 4, 5, 2, 3, 4, 5, 2, 3, 4, 5, 2, 3, 4, 5]\n"
     ]
    }
   ],
   "source": [
    "sample = [2,3,4,5]\n",
    "print(sample*5)"
   ]
  },
  {
   "cell_type": "markdown",
   "id": "d4405e77-9c79-47f6-9b22-b09b51d17986",
   "metadata": {},
   "source": [
    "Using NumPy:"
   ]
  },
  {
   "cell_type": "code",
   "execution_count": 6,
   "id": "259d0c8f-662c-456f-86d0-e7f853830ab6",
   "metadata": {},
   "outputs": [
    {
     "name": "stdout",
     "output_type": "stream",
     "text": [
      "[10 15 20 25]\n"
     ]
    }
   ],
   "source": [
    "import numpy as np\n",
    "\n",
    "sample = np.array([2,3,4,5])\n",
    "print(sample*5)"
   ]
  },
  {
   "cell_type": "markdown",
   "id": "30f9698f-7a4b-4cb1-ac4d-c981baf09ad8",
   "metadata": {},
   "source": [
    "<ul>\r\n",
    "    <li>Arrays are also faster than lists. NumPy arrays are implemented in C and optimized for performance. They provide faster execution for numerical operations compared to Python lists.</li>\r\n",
    "    <li>NumPy arrays use less memory than Python lists for storing numerical data. This is because they store elements of the same data type in contiguous memory locations, reducing overhead.</li>\r\n",
    "    <li>NumPy offers a wide range of mathematical functions and operations (e.g., linear algebra, statistical functions, Fourier transforms) that are optimized for performance.</li>\r\n",
    "    <li>Many NumPy operations are vectorized, meaning they can be applied to entire arrays without the need for explicit loops, making code more concise and often faster. <a href=\"https://www.intel.com/content/www/us/en/developer/articles/technical/vectorization-a-key-tool-to-improve-performance-on-modern-cpus.html\">Learn more here.</a></li>\r\n",
    "    <li>All elements in a NumPy array are of the same type, which can prevent bugs related to mixed data types and improve performance.</li>\r\n",
    "    <li>NumPy provides explicit type casting, allowing for better control over the precision and memory usage of nulerical computations.</li>\n",
    "</ul>\r\n",
    "\n",
    "</ul>\r\n",
    "\n",
    "</ul>\r\n",
    "tations."
   ]
  },
  {
   "cell_type": "markdown",
   "id": "b170fbfd-dfbf-4022-be88-4085cef92f7e",
   "metadata": {},
   "source": [
    "<h1>Let’s begin with NumPy</h1>"
   ]
  },
  {
   "cell_type": "code",
   "execution_count": 7,
   "id": "193db8fa-76d8-436e-9099-96cf68fe03b7",
   "metadata": {},
   "outputs": [],
   "source": [
    "import numpy as np"
   ]
  },
  {
   "cell_type": "markdown",
   "id": "fc588225-ef37-4060-93b3-47081ec1ff49",
   "metadata": {},
   "source": [
    "To initialize a NumPy array,"
   ]
  },
  {
   "cell_type": "code",
   "execution_count": 8,
   "id": "16131043-7db2-42f8-aa18-dfd1becb6e15",
   "metadata": {},
   "outputs": [],
   "source": [
    "list_array = np.array([1, 2, 3, 4, 5])\n",
    "tuple_array = np.array((1, 2, 3, 4, 5))"
   ]
  },
  {
   "cell_type": "markdown",
   "id": "2e4bdd8f-6186-402a-b3ce-1559f0ddee37",
   "metadata": {},
   "source": [
    "A 2D array will look like this,"
   ]
  },
  {
   "cell_type": "code",
   "execution_count": 9,
   "id": "34f46f5a-89a8-42d8-9841-2753f9fef443",
   "metadata": {},
   "outputs": [],
   "source": [
    "arr = np.array([[0, 1, 2], [3, 4, 5]], dtype=np.float32)"
   ]
  },
  {
   "cell_type": "markdown",
   "id": "2ee1c9d9-c092-4630-8835-af021566dcc5",
   "metadata": {},
   "source": [
    "Here dtype is used for type casting, so despite the given elements being integers, the array will convert everything to floats.\r\n",
    "\r\n",
    "Even when you don’t manually set the data type:\r\n",
    "\r\n",
    "When the elements of a NumPy array are mixed types, then the array's type will be upcast to the highest level type. This means that if an array input has mixed int and float elements, all the integers will be cast to their floating-point equivalents. If an array is mixed with int, float, and string elements, everything is cast to strings."
   ]
  },
  {
   "cell_type": "markdown",
   "id": "8170e42e-0b70-4cfb-8497-ef321b9c845a",
   "metadata": {},
   "source": [
    "<h1>A couple of operations to get started.</h1>\n",
    "<h2>1. Copying:</h2>"
   ]
  },
  {
   "cell_type": "code",
   "execution_count": 10,
   "id": "f6da878d-5eb5-43ac-b04d-67724974a779",
   "metadata": {},
   "outputs": [
    {
     "name": "stdout",
     "output_type": "stream",
     "text": [
      "[5 2 3]\n",
      "[5 2 3]\n"
     ]
    }
   ],
   "source": [
    "a = np.array([1,2,3])\n",
    "b = a\n",
    "b[0] = 5\n",
    "\n",
    "print(a)\n",
    "print(b)"
   ]
  },
  {
   "cell_type": "markdown",
   "id": "5cccde84-f48f-47e2-a934-b31607309383",
   "metadata": {},
   "source": [
    "So this is a big issue. We set b equals to a and if we change any value of b, a changes as well. This is not supposed to happen but Python actually sets a and b to the same memory location. So solve this issue NumPy has a copy function,"
   ]
  },
  {
   "cell_type": "code",
   "execution_count": 11,
   "id": "045e4e2f-b575-42bd-8caf-cfbabed5631e",
   "metadata": {},
   "outputs": [
    {
     "name": "stdout",
     "output_type": "stream",
     "text": [
      "[1 2 3]\n",
      "[5 2 3]\n"
     ]
    }
   ],
   "source": [
    "a = np.array([1,2,3])\n",
    "b = a.copy()\n",
    "\n",
    "b[0]= 5\n",
    "\n",
    "print(a)\n",
    "print(b)"
   ]
  },
  {
   "cell_type": "markdown",
   "id": "0c4cf505-26f9-494d-8af2-52351e0c73c5",
   "metadata": {},
   "source": [
    "<h2>2. Casting:</h2>"
   ]
  },
  {
   "cell_type": "markdown",
   "id": "5eb59b1e-5d83-46a5-a7d8-389228efa211",
   "metadata": {},
   "source": [
    "We cast NumPy arrays through their inherent astype function."
   ]
  },
  {
   "cell_type": "code",
   "execution_count": 12,
   "id": "8777f4f5-bfb9-4ab3-a26c-dbefc89ffd4a",
   "metadata": {},
   "outputs": [
    {
     "name": "stdout",
     "output_type": "stream",
     "text": [
      "int32\n",
      "float32\n"
     ]
    }
   ],
   "source": [
    "arr = np.array([1,2,3])\n",
    "print(arr.dtype)\n",
    "arr = arr.astype(np.float32)\n",
    "print(arr.dtype)"
   ]
  },
  {
   "cell_type": "markdown",
   "id": "e2abcdbd-1e78-44f7-a423-5983f60764ae",
   "metadata": {},
   "source": [
    "Notice that we are using dtype to get the data type. It’s because,"
   ]
  },
  {
   "cell_type": "code",
   "execution_count": 13,
   "id": "cd63e38f-4512-4b7b-9baa-e186a5322c7e",
   "metadata": {},
   "outputs": [
    {
     "data": {
      "text/plain": [
       "numpy.ndarray"
      ]
     },
     "execution_count": 13,
     "metadata": {},
     "output_type": "execute_result"
    }
   ],
   "source": [
    "type(arr)"
   ]
  },
  {
   "cell_type": "markdown",
   "id": "cb07c890-3366-49b4-b445-412c8d0548ad",
   "metadata": {},
   "source": [
    "So to get the data type of the date inside a NumPy array, we need to use variable_name.dtype."
   ]
  },
  {
   "cell_type": "markdown",
   "id": "964c6778-36d4-46ba-b9ba-286dbb809d85",
   "metadata": {},
   "source": [
    "<h1>Null and Infinity</h1>"
   ]
  },
  {
   "cell_type": "markdown",
   "id": "38917da7-2079-486d-b1b0-2dffde2d1ccf",
   "metadata": {},
   "source": [
    "<h2>1. NaN</h2>"
   ]
  },
  {
   "cell_type": "markdown",
   "id": "d90ad408-2f90-432c-9e3b-c9ee89db858c",
   "metadata": {},
   "source": [
    "We might need some values to be blank but we have to put something here to hold the space in the memory or have some existence inside the array. "
   ]
  },
  {
   "cell_type": "code",
   "execution_count": 15,
   "id": "fc44cef7-a6d1-458e-8458-fa1368e60134",
   "metadata": {},
   "outputs": [
    {
     "name": "stdout",
     "output_type": "stream",
     "text": [
      "[nan  1.  2.]\n"
     ]
    }
   ],
   "source": [
    "arr = np.array([np.nan, 1, 2])\n",
    "print(arr)"
   ]
  },
  {
   "cell_type": "markdown",
   "id": "748a45a9-0580-48c8-bd3c-1fc97f066120",
   "metadata": {},
   "source": [
    "<h2>2. Infinity</h2>"
   ]
  },
  {
   "cell_type": "markdown",
   "id": "d3f446ed-ebd4-40fd-add0-a2ea4231fd74",
   "metadata": {},
   "source": [
    "To represent infinity in NumPy, we use the np.inf special value. We can also represent negative infinity with -np.inf."
   ]
  },
  {
   "cell_type": "code",
   "execution_count": 16,
   "id": "2d39560d-2879-41f0-83cb-19eaf2672229",
   "metadata": {},
   "outputs": [],
   "source": [
    "arr = np.array([np.inf, 5])\n",
    "\n",
    "arr = np.array([-np.inf, 1])"
   ]
  },
  {
   "cell_type": "code",
   "execution_count": 18,
   "id": "5f0180fb-2af7-42a9-a0c4-f3dc8663c8c5",
   "metadata": {},
   "outputs": [
    {
     "ename": "OverflowError",
     "evalue": "cannot convert float infinity to integer",
     "output_type": "error",
     "traceback": [
      "\u001b[1;31m---------------------------------------------------------------------------\u001b[0m",
      "\u001b[1;31mOverflowError\u001b[0m                             Traceback (most recent call last)",
      "Cell \u001b[1;32mIn[18], line 1\u001b[0m\n\u001b[1;32m----> 1\u001b[0m np\u001b[38;5;241m.\u001b[39marray([np\u001b[38;5;241m.\u001b[39minf, \u001b[38;5;241m3\u001b[39m], dtype\u001b[38;5;241m=\u001b[39mnp\u001b[38;5;241m.\u001b[39mint32)\n",
      "\u001b[1;31mOverflowError\u001b[0m: cannot convert float infinity to integer"
     ]
    }
   ],
   "source": [
    "np.array([np.inf, 3], dtype=np.int32) #this cannot be done, np.inf cannot take on an int type."
   ]
  },
  {
   "cell_type": "code",
   "execution_count": 19,
   "id": "99e10a40-c45d-4421-8530-1073d3a7cf4e",
   "metadata": {},
   "outputs": [
    {
     "data": {
      "text/plain": [
       "array([inf,  3.], dtype=float32)"
      ]
     },
     "execution_count": 19,
     "metadata": {},
     "output_type": "execute_result"
    }
   ],
   "source": [
    "np.array([np.inf, 3], dtype=np.float32) #this is right"
   ]
  },
  {
   "cell_type": "markdown",
   "id": "51781c07-7b1f-49b0-ace7-f71496cebf7f",
   "metadata": {},
   "source": [
    "<h1>Populating the arrays and tinkering with dimensions</h1>"
   ]
  },
  {
   "cell_type": "markdown",
   "id": "5226c170-6543-4739-bfcd-41e278f181bc",
   "metadata": {},
   "source": [
    "<h2>1. Ranged data</h2>"
   ]
  },
  {
   "cell_type": "markdown",
   "id": "67c30e5d-15a0-4df0-9c08-bb383ec83563",
   "metadata": {},
   "source": [
    "If we wanted to populate our array using a range of values we can use np.arange( ).\n",
    "\n",
    "This following code will return an array with all the integers in the range [0, n); [ means inclusive, ) means exclusive:"
   ]
  },
  {
   "cell_type": "code",
   "execution_count": 22,
   "id": "090d9e6d-4315-4b1e-bda8-31dae326ffe3",
   "metadata": {},
   "outputs": [
    {
     "name": "stdout",
     "output_type": "stream",
     "text": [
      "[0 1 2 3 4]\n"
     ]
    }
   ],
   "source": [
    "arr = np.arange(5)\n",
    "print(arr)"
   ]
  },
  {
   "cell_type": "code",
   "execution_count": 23,
   "id": "6c7786ca-e633-4280-8bb8-9fbb2cec23f8",
   "metadata": {},
   "outputs": [
    {
     "name": "stdout",
     "output_type": "stream",
     "text": [
      "[-1  0  1  2  3]\n"
     ]
    }
   ],
   "source": [
    "arr = np.arange(-1, 4)\n",
    "print(arr)"
   ]
  },
  {
   "cell_type": "markdown",
   "id": "48f12c6b-85db-4279-944d-6a0ce2afeb0a",
   "metadata": {},
   "source": [
    "For three arguments, m, n, and s, np.arange will return an array with the integers in the range [m, n) using a step size of s."
   ]
  },
  {
   "cell_type": "code",
   "execution_count": 24,
   "id": "8014e298-83d4-445a-95ce-4e8a9984206f",
   "metadata": {},
   "outputs": [
    {
     "name": "stdout",
     "output_type": "stream",
     "text": [
      "[-1.5  0.5  2.5]\n"
     ]
    }
   ],
   "source": [
    "arr = np.arange(-1.5, 4, 2)\n",
    "print(arr)"
   ]
  },
  {
   "cell_type": "markdown",
   "id": "f96ae57c-af06-45e9-88c3-ef215497a86a",
   "metadata": {},
   "source": [
    "This following one is a little weird as some might think this will give as an output of [0.1 1.1 2.1 3.1 4.1]. "
   ]
  },
  {
   "cell_type": "code",
   "execution_count": 25,
   "id": "03a2cb67-dda0-4a95-8dbc-2c8c5f56e2a2",
   "metadata": {},
   "outputs": [
    {
     "name": "stdout",
     "output_type": "stream",
     "text": [
      "[0. 1. 2. 3. 4. 5.]\n"
     ]
    }
   ],
   "source": [
    "arr = np.arange(5.1)\n",
    "print(arr)"
   ]
  },
  {
   "cell_type": "markdown",
   "id": "097a8b43-d3ed-4e71-984c-e7e409b18975",
   "metadata": {},
   "source": [
    "To get that output we actually have to do this:"
   ]
  },
  {
   "cell_type": "code",
   "execution_count": 26,
   "id": "7934b848-0c6e-41ec-b089-7370927e320b",
   "metadata": {},
   "outputs": [
    {
     "name": "stdout",
     "output_type": "stream",
     "text": [
      "[0.1 1.1 2.1 3.1 4.1]\n"
     ]
    }
   ],
   "source": [
    "arr = np.arange(5) + 0.1\n",
    "print(arr)"
   ]
  },
  {
   "cell_type": "markdown",
   "id": "f6f561f0-2d29-48b5-904b-a633e62536f2",
   "metadata": {},
   "source": [
    "<u>np.linspace:</u>\n",
    "\n",
    "To specify the number of elements in the returned array, rather than the step size, we can use the np.linspace function.\r\n",
    "\r\n",
    "This function takes in a required first two arguments, for the start and end of the range, respectively. The end of the range is inclusive for np.linspace, unless the keyword argument endpoint is set to False. To specify the number of elements, we set the num keyword argument (its default value is 50)."
   ]
  },
  {
   "cell_type": "code",
   "execution_count": 27,
   "id": "750fc745-a652-4dc5-a748-7665f983c096",
   "metadata": {},
   "outputs": [
    {
     "name": "stdout",
     "output_type": "stream",
     "text": [
      "array([5. , 6.5, 8. , 9.5])\n"
     ]
    }
   ],
   "source": [
    "arr = np.linspace(5, 11, num=4, endpoint=False)\n",
    "print(repr(arr))"
   ]
  },
  {
   "cell_type": "markdown",
   "id": "9f80e132-ab5c-4853-b5dd-63399a3053c0",
   "metadata": {},
   "source": [
    "<h2>2. Reshaping Data</h2>"
   ]
  },
  {
   "cell_type": "markdown",
   "id": "4bf76e2e-7d77-4c6a-a068-7c462394ce87",
   "metadata": {},
   "source": [
    "The function we use to reshape data in NumPy is np.reshape. It takes in an array and a new shape as required arguments. The new shape must exactly contain all the elements from the input array. For example, we could reshape an array with 12 elements to (4, 3), but we can't reshape it to (4, 4).\r\n",
    "\r\n",
    "We are allowed to use the special value of -1 in at most one dimension of the new shape. The dimension with -1 will take on the value necessary to allow the new shape to contain all the elements of the array."
   ]
  },
  {
   "cell_type": "code",
   "execution_count": 28,
   "id": "e85b835d-88be-4607-89ec-3c84c4f1a412",
   "metadata": {},
   "outputs": [
    {
     "name": "stdout",
     "output_type": "stream",
     "text": [
      "The new array is [[[0 1]\n",
      "  [2 3]]\n",
      "\n",
      " [[4 5]\n",
      "  [6 7]]] \n",
      " and the shape of the array is (2, 2, 2)\n"
     ]
    }
   ],
   "source": [
    "arr = np.arange(8)\n",
    "\n",
    "reshaped_arr = np.reshape(arr, (-1, 2, 2))\n",
    "print(\"The new array is {} \\n and the shape of the array is {}\".format(reshaped_arr, reshaped_arr.shape))"
   ]
  },
  {
   "cell_type": "markdown",
   "id": "49dda326-066c-429e-8b0f-3fe53f3a5786",
   "metadata": {},
   "source": [
    "<u>flatten():</u>"
   ]
  },
  {
   "cell_type": "code",
   "execution_count": 29,
   "id": "915804fa-451f-437e-ab95-7d339e965359",
   "metadata": {},
   "outputs": [
    {
     "name": "stdout",
     "output_type": "stream",
     "text": [
      "[0 1 2 3 4 5 6 7]\n"
     ]
    }
   ],
   "source": [
    "flattened = arr.flatten()\n",
    "print(flattened)"
   ]
  }
 ],
 "metadata": {
  "kernelspec": {
   "display_name": "Python 3 (ipykernel)",
   "language": "python",
   "name": "python3"
  },
  "language_info": {
   "codemirror_mode": {
    "name": "ipython",
    "version": 3
   },
   "file_extension": ".py",
   "mimetype": "text/x-python",
   "name": "python",
   "nbconvert_exporter": "python",
   "pygments_lexer": "ipython3",
   "version": "3.11.7"
  }
 },
 "nbformat": 4,
 "nbformat_minor": 5
}
